{
 "cells": [
  {
   "cell_type": "markdown",
   "metadata": {},
   "source": [
    "# Generate test comparison data\n",
    "\n",
    "Notebook with which the comparison data for the tests is generated, in case the old results are no longer valid."
   ]
  },
  {
   "cell_type": "code",
   "execution_count": 1,
   "metadata": {},
   "outputs": [],
   "source": [
    "import pandas as pd\n",
    "import sys\n",
    "sys.path.append('../../anduryl')\n",
    "import anduryl\n",
    "import numpy as np"
   ]
  },
  {
   "cell_type": "markdown",
   "metadata": {},
   "source": [
    "### Validation table"
   ]
  },
  {
   "cell_type": "code",
   "execution_count": 6,
   "metadata": {},
   "outputs": [
    {
     "name": "stdout",
     "output_type": "stream",
     "text": [
      "CDC_ROI [0.72 2.31 1.66] [0.72 2.3  1.66] global opt\n",
      "CDC_ROI [0.72 2.31 1.66] [0.72 2.3  1.66] item opt\n",
      "CDC_ROI [0.72 2.31 1.66] [0.72 2.3  1.66] Best Expert\n",
      "CWD [0.49 1.22 0.6 ] [0.49 1.21 0.6 ] global opt\n",
      "Gerstenberger [0.93 1.1  1.02] [0.93 1.09 1.02] global opt\n",
      "Hemopilia [0.31 0.49 0.15] [0.31 0.3  0.09] global opt\n",
      "Hemopilia [0.31 0.46 0.14] [0.31 0.41 0.13] item opt\n",
      "IceSheets [0.62 0.7  0.43] [0.37 0.66 0.25] global non opt\n",
      "Topaz [0.41 1.46 0.6 ] [0.41 1.45 0.6 ] global opt\n",
      "Topaz [0.41 1.46 0.6 ] [0.41 1.45 0.6 ] item opt\n",
      "Topaz [0.41 1.46 0.6 ] [0.41 1.45 0.6 ] Best Expert\n"
     ]
    }
   ],
   "source": [
    "# Load Excalibur table as format\n",
    "validation_table = pd.read_csv('../test/data/Excalibur.csv', sep=';', header=[0, 1], index_col=0)\n",
    "anduryl_table = validation_table.copy()\n",
    "\n",
    "# Case name - file\n",
    "files = {\n",
    "    'Arkansas': 'Arkansas.mat',\n",
    "    'Arsenic': 'arsenic d-r.mat',\n",
    "    'ATCEP': 'ATCEP Error.mat',\n",
    "    'Biol_Agent': 'Biol agents.mat',\n",
    "    'CDC_ROI': 'CDC ROI Final.mat',\n",
    "    'CoveringKids': 'CoveringKids.mat',\n",
    "    'create-vicki': 'create.mat',\n",
    "    'CWD': 'cwd.mat',\n",
    "    'Daniela': 'Daniela.mat',\n",
    "    'DCPN_Fistula': 'dcpn_fistula.mat',\n",
    "    'eBPP': 'ebbp.mat',\n",
    "    'Eff_Erup': 'EffusiveErupt.mat',\n",
    "    'Erie_Carp': 'Erie Carps.mat',\n",
    "    'FCEP': 'FCEP Error.mat',\n",
    "    'Florida': 'Florida.mat',\n",
    "    'Gerstenberger': 'Gerstenberger.mat',\n",
    "    'GL_NIS': 'gl-nis.mat',\n",
    "    'Goodheart': 'Goodheart.mat',\n",
    "    'Hemopilia': 'Hemophilia.mat',\n",
    "    'IceSheets': 'IceSheet2012.mat',\n",
    "    'Illinois': 'Illinois.mat',\n",
    "    'Liander': 'liander.mat',\n",
    "    'Nebraska': 'Nebraska.mat',\n",
    "    'Obesity': 'obesity_ms.mat',\n",
    "    'PHAC_T4': 'PHAC 2009 final.mat',\n",
    "    'San_Diego': 'San Diego.mat',\n",
    "    'Sheep': 'Sheep Scab.mat',\n",
    "    'SPEED': 'speed.mat',\n",
    "    'TDC': 'tdc.mat',\n",
    "    'Tobacco': 'tobacco.mat',\n",
    "    'Topaz': 'Topaz.mat',\n",
    "    'UMD_NREMOVAL': 'umd_nremoval.mat',\n",
    "    'Washington': 'Washington.mat'\n",
    "}\n",
    "\n",
    "for key, file in files.items():\n",
    "\n",
    "    project = anduryl.Project()\n",
    "    file = file.replace('.mat', '')\n",
    "    project.io.load_excalibur(f'../data/{file}.dtt', f'../data/{file}.rls')\n",
    "\n",
    "    project.calculate_decision_maker(weight_type='item', overshoot=0.1, exp_id='DM1', exp_name='Item opt.')\n",
    "    itemopt = np.round([project.experts.calibration[-1], project.experts.info_real[-1], project.experts.info_real[-1] * project.experts.calibration[-1]], 2)\n",
    "\n",
    "    project.calculate_decision_maker(weight_type='global', overshoot=0.1, exp_id='DM2', exp_name='Global opt.')\n",
    "    globopt = np.round([project.experts.calibration[-1], project.experts.info_real[-1], project.experts.info_real[-1] * project.experts.calibration[-1]], 2)\n",
    "\n",
    "    project.calculate_decision_maker(weight_type='global', alpha=0.0, overshoot=0.1, exp_id='DM3', exp_name='Global Non-opt.')\n",
    "    globnonopt = np.round([project.experts.calibration[-1], project.experts.info_real[-1], project.experts.info_real[-1] * project.experts.calibration[-1]], 2)\n",
    "\n",
    "    project.calculate_decision_maker(weight_type='equal', overshoot=0.1, exp_id='DM4', exp_name='Equal')\n",
    "    equal = np.round([project.experts.calibration[-1], project.experts.info_real[-1], project.experts.info_real[-1] * project.experts.calibration[-1]], 2)\n",
    "\n",
    "    imax = np.argmax([project.experts.comb_score[i] for i in project.experts.actual_experts])\n",
    "    ibest = project.experts.actual_experts[imax]\n",
    "    best_exp = np.round([project.experts.calibration[ibest], project.experts.info_real[ibest], project.experts.info_real[ibest] * project.experts.calibration[ibest]], 2)\n",
    "    \n",
    "    if not (validation_table.loc[key, 'PW Global'].values == globopt).all():\n",
    "        print(key, validation_table.loc[key, 'PW Global'].values, globopt, 'global opt')\n",
    "    if not (validation_table.loc[key, 'PW Non-optimized'].values == globnonopt).all():\n",
    "        print(key, validation_table.loc[key, 'PW Non-optimized'].values, globnonopt, 'global non opt')\n",
    "    if not (validation_table.loc[key, 'PW Item'].values == itemopt).all():\n",
    "        print(key, validation_table.loc[key, 'PW Item'].values, itemopt, 'item opt')\n",
    "    if not (validation_table.loc[key, 'Equal weight'].values == equal).all():\n",
    "        print(key, validation_table.loc[key, 'Equal weight'].values, equal, 'Equal weight')\n",
    "    if not (validation_table.loc[key, 'Best Expert'].values == best_exp).all():\n",
    "        print(key, validation_table.loc[key, 'Best Expert'].values, best_exp, 'Best Expert')\n",
    "    \n",
    "    anduryl_table.loc[key, 'PW Global'] = globopt\n",
    "    anduryl_table.loc[key, 'PW Non-optimized'] = globnonopt\n",
    "    anduryl_table.loc[key, 'PW Item'] = itemopt\n",
    "    anduryl_table.loc[key, 'Equal weight'] = equal\n",
    "    anduryl_table.loc[key, 'Best Expert'] = best_exp"
   ]
  },
  {
   "cell_type": "code",
   "execution_count": 7,
   "metadata": {},
   "outputs": [],
   "source": [
    "anduryl_table.to_csv('../test/data/Anduryl.csv', sep=';')"
   ]
  },
  {
   "cell_type": "markdown",
   "metadata": {},
   "source": [
    "### Robustness for tobacco case"
   ]
  },
  {
   "cell_type": "code",
   "execution_count": null,
   "metadata": {},
   "outputs": [],
   "source": [
    "from anduryl.core.calculate import get_combinations"
   ]
  },
  {
   "cell_type": "code",
   "execution_count": 53,
   "metadata": {},
   "outputs": [],
   "source": [
    "project = anduryl.Project()\n",
    "project.io.load_excalibur(f'../cases/tobacco.dtt', f'../cases/tobacco.rls')\n",
    "\n",
    "# Manually remove each item, and calculate the three numbers\n",
    "seed_idx = project.items.get_idx(\"seed\")\n",
    "seed_ids = [item for i, item in enumerate(project.items.ids) if seed_idx[i]]\n",
    "\n",
    "# Get combinations of items to exclude\n",
    "combs = get_combinations(items=seed_ids, min_exclude=0, max_exclude=4)\n",
    "\n",
    "res = {}\n",
    "\n",
    "for comb in combs:\n",
    "    project.io.load_excalibur(f'../cases/tobacco.dtt', f'../cases/tobacco.rls')\n",
    "    # Remove items\n",
    "    for i in comb[::-1]:\n",
    "        project.items.remove_item(project.items.ids[i])\n",
    "    # Calculate DM\n",
    "    project.calculate_decision_maker(weight_type='global', overshoot=0.1, exp_id='DM', alpha=0.0)\n",
    "    \n",
    "    # Save numbers\n",
    "    res[tuple(seed_ids[i] for i in comb)] = {\n",
    "        'Info score total': project.experts.info_total[-1],\n",
    "        'Info score realizations': project.experts.info_real[-1],\n",
    "        'Calibration score': project.experts.calibration[-1]\n",
    "    }\n",
    "    \n",
    "# Create table from nested dictionary\n",
    "table = pd.DataFrame(\n",
    "    data=res.values(),\n",
    "    index=list(res.keys()),\n",
    "    columns=['Info score total' ,'Info score realizations', 'Calibration score']\n",
    ")\n",
    "\n",
    "table.to_csv('../test/data/item_robustness_tobacco.csv', sep=';')"
   ]
  },
  {
   "cell_type": "code",
   "execution_count": 44,
   "metadata": {},
   "outputs": [],
   "source": [
    "# project = anduryl.Project()\n",
    "# project.io.load_excalibur(f'../cases/tobacco.dtt', f'../cases/tobacco.rls')\n",
    "\n",
    "\n",
    "# project.calculate_item_robustness(\n",
    "#     weight_type='global',\n",
    "#     overshoot=0.1,\n",
    "#     max_exclude=4,\n",
    "#     min_exclude=0,\n",
    "#     calpower=1.0,\n",
    "#     alpha=0.0\n",
    "# )\n",
    "\n",
    "# robres = project.main_results.item_robustness\n",
    "# df = pd.DataFrame(data=robres.values(), index=list(robres.keys()),\n",
    "#                   columns=['Info score total' ,'Info score realizations', 'Calibration score'])"
   ]
  },
  {
   "cell_type": "code",
   "execution_count": 55,
   "metadata": {},
   "outputs": [],
   "source": [
    "project = anduryl.Project()\n",
    "project.io.load_excalibur(f'../cases/tobacco.dtt', f'../cases/tobacco.rls')\n",
    "\n",
    "# Manually remove each item, and calculate the three numbers\n",
    "nexperts = len(project.experts.ids)\n",
    "combs = get_combinations(items=list(range(nexperts)), min_exclude=0, max_exclude=4)\n",
    "\n",
    "res = {}\n",
    "\n",
    "for comb in combs:\n",
    "    project.io.load_excalibur(f'../cases/tobacco.dtt', f'../cases/tobacco.rls')\n",
    "    # Remove items\n",
    "    for i in comb[::-1]:\n",
    "        project.experts.remove_expert(project.experts.ids[i])\n",
    "    # Calculate DM\n",
    "    project.calculate_decision_maker(weight_type='global', overshoot=0.1, exp_id='DM', alpha=0.0)\n",
    "    \n",
    "    # Save numbers\n",
    "    res[tuple(seed_ids[i] for i in comb)] = {\n",
    "        'Info score total': project.experts.info_total[-1],\n",
    "        'Info score realizations': project.experts.info_real[-1],\n",
    "        'Calibration score': project.experts.calibration[-1]\n",
    "    }\n",
    "    \n",
    "# Create table from nested dictionary\n",
    "table = pd.DataFrame(\n",
    "    data=res.values(),\n",
    "    index=list(res.keys()),\n",
    "    columns=['Info score total' ,'Info score realizations', 'Calibration score']\n",
    ")\n",
    "\n",
    "table.to_csv('../test/data/expert_robustness_tobacco.csv', sep=';')"
   ]
  },
  {
   "cell_type": "code",
   "execution_count": 3,
   "metadata": {},
   "outputs": [],
   "source": [
    "# project = anduryl.Project()\n",
    "# project.io.load_excalibur(f'../cases/tobacco.dtt', f'../cases/tobacco.rls')\n",
    "\n",
    "\n",
    "# project.calculate_expert_robustness(\n",
    "#     weight_type='global',\n",
    "#     overshoot=0.1,\n",
    "#     max_exclude=4,\n",
    "#     min_exclude=0,\n",
    "#     calpower=1.0,\n",
    "#     alpha=0.0\n",
    "# )\n",
    "\n",
    "# robres = project.main_results.expert_robustness\n",
    "# df = pd.DataFrame(data=robres.values(), index=list(robres.keys()),\n",
    "#                   columns=['Info score total' ,'Info score realizations', 'Calibration score'])\n",
    "\n",
    "# df.to_csv('../test/data/expert_robustness_tobacco.csv', sep=';')"
   ]
  },
  {
   "cell_type": "code",
   "execution_count": null,
   "metadata": {},
   "outputs": [],
   "source": []
  }
 ],
 "metadata": {
  "kernelspec": {
   "display_name": "Python 3 (ipykernel)",
   "language": "python",
   "name": "python3"
  },
  "language_info": {
   "codemirror_mode": {
    "name": "ipython",
    "version": 3
   },
   "file_extension": ".py",
   "mimetype": "text/x-python",
   "name": "python",
   "nbconvert_exporter": "python",
   "pygments_lexer": "ipython3",
   "version": "3.9.7"
  }
 },
 "nbformat": 4,
 "nbformat_minor": 4
}
